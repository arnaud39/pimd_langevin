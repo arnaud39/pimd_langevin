{
 "cells": [
  {
   "cell_type": "markdown",
   "metadata": {},
   "source": [
    "## Parameters\n"
   ]
  },
  {
   "cell_type": "code",
   "execution_count": 1,
   "metadata": {},
   "outputs": [],
   "source": [
    "import numpy as np\n",
    "\n",
    "timestep = 1e-16\n",
    "\n",
    "\n",
    "initial_position = np.linspace(4,4,1)\n",
    "initial_velocities = np.zeros(1)# np.linspace(0,0,100)\n",
    "\n",
    "\n",
    "iterations = 1000"
   ]
  },
  {
   "cell_type": "markdown",
   "metadata": {},
   "source": [
    "## Verlet"
   ]
  },
  {
   "cell_type": "code",
   "execution_count": 2,
   "metadata": {},
   "outputs": [
    {
     "name": "stdout",
     "output_type": "stream",
     "text": [
      "[-0.]\n"
     ]
    },
    {
     "ename": "TypeError",
     "evalue": "unsupported operand type(s) for ** or pow(): 'list' and 'int'",
     "output_type": "error",
     "traceback": [
      "\u001b[0;31m---------------------------------------------------------------------------\u001b[0m",
      "\u001b[0;31mTypeError\u001b[0m                                 Traceback (most recent call last)",
      "\u001b[1;32m/Users/arnaudpetit/Documents/Programmation/3A/pimd/research.ipynb Cell 4\u001b[0m in \u001b[0;36m<module>\u001b[0;34m\u001b[0m\n\u001b[1;32m      <a href='vscode-notebook-cell:/Users/arnaudpetit/Documents/Programmation/3A/pimd/research.ipynb#X16sZmlsZQ%3D%3D?line=4'>5</a>\u001b[0m position, velocity \u001b[39m=\u001b[39m verlet(\n\u001b[1;32m      <a href='vscode-notebook-cell:/Users/arnaudpetit/Documents/Programmation/3A/pimd/research.ipynb#X16sZmlsZQ%3D%3D?line=5'>6</a>\u001b[0m     inital_positions\u001b[39m=\u001b[39minitial_position, \n\u001b[1;32m      <a href='vscode-notebook-cell:/Users/arnaudpetit/Documents/Programmation/3A/pimd/research.ipynb#X16sZmlsZQ%3D%3D?line=6'>7</a>\u001b[0m     initial_velocities\u001b[39m=\u001b[39minitial_velocities,\n\u001b[0;32m   (...)\u001b[0m\n\u001b[1;32m     <a href='vscode-notebook-cell:/Users/arnaudpetit/Documents/Programmation/3A/pimd/research.ipynb#X16sZmlsZQ%3D%3D?line=9'>10</a>\u001b[0m   \n\u001b[1;32m     <a href='vscode-notebook-cell:/Users/arnaudpetit/Documents/Programmation/3A/pimd/research.ipynb#X16sZmlsZQ%3D%3D?line=10'>11</a>\u001b[0m     )\n\u001b[1;32m     <a href='vscode-notebook-cell:/Users/arnaudpetit/Documents/Programmation/3A/pimd/research.ipynb#X16sZmlsZQ%3D%3D?line=12'>13</a>\u001b[0m \u001b[39m#plt.plot(position)\u001b[39;00m\n\u001b[0;32m---> <a href='vscode-notebook-cell:/Users/arnaudpetit/Documents/Programmation/3A/pimd/research.ipynb#X16sZmlsZQ%3D%3D?line=14'>15</a>\u001b[0m energies \u001b[39m=\u001b[39m energy(position, velocity)\n\u001b[1;32m     <a href='vscode-notebook-cell:/Users/arnaudpetit/Documents/Programmation/3A/pimd/research.ipynb#X16sZmlsZQ%3D%3D?line=15'>16</a>\u001b[0m plt\u001b[39m.\u001b[39mplot(energies)\n\u001b[1;32m     <a href='vscode-notebook-cell:/Users/arnaudpetit/Documents/Programmation/3A/pimd/research.ipynb#X16sZmlsZQ%3D%3D?line=16'>17</a>\u001b[0m plt\u001b[39m.\u001b[39mshow()\n",
      "File \u001b[0;32m~/Documents/Programmation/3A/pimd/dynamics.py:34\u001b[0m, in \u001b[0;36menergy\u001b[0;34m(x, v, m, V_0, a)\u001b[0m\n\u001b[1;32m     30\u001b[0m \u001b[39mdef\u001b[39;00m \u001b[39menergy\u001b[39m(\n\u001b[1;32m     31\u001b[0m     x: np\u001b[39m.\u001b[39marray, v: np\u001b[39m.\u001b[39marray, m: \u001b[39mfloat\u001b[39m \u001b[39m=\u001b[39m \u001b[39m1.0\u001b[39m, V_0: \u001b[39mfloat\u001b[39m \u001b[39m=\u001b[39m \u001b[39m1.0\u001b[39m, a: \u001b[39mfloat\u001b[39m \u001b[39m=\u001b[39m \u001b[39m1.0\u001b[39m\n\u001b[1;32m     32\u001b[0m ) \u001b[39m-\u001b[39m\u001b[39m>\u001b[39m Tuple[np\u001b[39m.\u001b[39marray, np\u001b[39m.\u001b[39marray]:\n\u001b[1;32m     33\u001b[0m     \u001b[39m\"\"\"Compute potential and kinestic energy of the system.\"\"\"\u001b[39;00m\n\u001b[0;32m---> 34\u001b[0m     kinetic_e \u001b[39m=\u001b[39m m \u001b[39m*\u001b[39m (v) \u001b[39m*\u001b[39;49m\u001b[39m*\u001b[39;49m \u001b[39m2\u001b[39;49m \u001b[39m/\u001b[39m \u001b[39m2\u001b[39m\n\u001b[1;32m     35\u001b[0m     \u001b[39mreturn\u001b[39;00m potential(x, V_0, a) \u001b[39m+\u001b[39m kinetic_e\n",
      "\u001b[0;31mTypeError\u001b[0m: unsupported operand type(s) for ** or pow(): 'list' and 'int'"
     ]
    }
   ],
   "source": [
    "from verlet import verlet\n",
    "from dynamics import energy\n",
    "import matplotlib.pyplot as plt\n",
    "\n",
    "position, velocity = verlet(\n",
    "    inital_positions=initial_position, \n",
    "    initial_velocities=initial_velocities,\n",
    "    iterations= iterations, \n",
    "    timestep= timestep,\n",
    "  \n",
    "    )\n",
    "\n",
    "#plt.plot(position)\n",
    "\n",
    "energies = energy(position, velocity)\n",
    "plt.plot(energies)\n",
    "plt.show()\n",
    "\n"
   ]
  },
  {
   "cell_type": "code",
   "execution_count": null,
   "metadata": {},
   "outputs": [],
   "source": [
    "from verlet import verlet\n",
    "from dynamics import K\n",
    "\n",
    "import matplotlib.pyplot as plt\n",
    "\n",
    "positions, velocities = verlet(\n",
    "    inital_positions=initial_position, \n",
    "    initial_velocities=initial_velocities, \n",
    "    force=force, \n",
    "    iterations= iterations, \n",
    "    timestep= timestep,\n",
    "    mass=mass, \n",
    "    T=T,\n",
    "    k_B= k_B,\n",
    "    gamma= gamma,\n",
    "    V_0= V_0,\n",
    "    a=a,\n",
    "    )\n",
    "\n",
    "k = K(P=10, k_B=k_B, mass=mass, T=T)\n",
    "\n",
    "\n",
    "\n",
    "fig, ax = plt.subplots(2, 1)\n",
    "\n",
    "time = [timestep*i for i in range(iterations)]\n",
    "ax[0].plot(time, np.array(positions).transpose()[-1])\n",
    "ax[1].plot(time, np.array(velocities).transpose()[-1])\n",
    "plt.show()\n"
   ]
  },
  {
   "cell_type": "code",
   "execution_count": 2,
   "metadata": {},
   "outputs": [],
   "source": [
    "from numpy.random import normal\n",
    "from scipy.constants import hbar\n",
    "import numpy as np\n",
    "\n",
    "def energy(x, v, k=1, m=1, x_0=0):\n",
    "    \"\"\"Compute potential and kinestic energy of the system.\"\"\"\n",
    "    potential_e = 0.5*k*(x-x_0)**2 #spring\n",
    "    kinetic_e = m * (v)**2 /2\n",
    "\n",
    "    return potential_e, kinetic_e\n",
    "\n",
    "def potentiel(x, V_0: float, a: float):\n",
    "    return V_0*((x/a)**2-1)**2\n",
    "def d_potentiel(x, V_0: float, a: float):\n",
    "    return 4*V_0*x*((x/a)**2-1)\n",
    "\n",
    "force = lambda x, k, x_0: k*(x0-x)\n",
    "\n",
    "n=1000#number of steps\n",
    "P = 1\n",
    "\n",
    "x_, p_ = np.zeros(P), np.zeros(P)\n",
    "\n",
    "generated_numbers = normal(size= n*P)\n",
    "\n",
    "def K(M: float=1., T: float = 1.):\n",
    "    return P*m*(k_B*T/hbar)**2\n",
    "\n",
    "def random_force(v, m: float=1., gamma: float=1., k_B: float = 1., T: float=1., generated_number: float=0.):\n",
    "    return np.sqrt(2*m*gamma*b_B*T)*generated_number  - m*gamma*v\n",
    "\n",
    "def force(x, M:float, T:float):\n",
    "    return -2.*K(M, T)\n",
    "\n"
   ]
  },
  {
   "cell_type": "code",
   "execution_count": null,
   "metadata": {},
   "outputs": [],
   "source": []
  }
 ],
 "metadata": {
  "kernelspec": {
   "display_name": "Python 3.9.10",
   "language": "python",
   "name": "python3"
  },
  "language_info": {
   "codemirror_mode": {
    "name": "ipython",
    "version": 3
   },
   "file_extension": ".py",
   "mimetype": "text/x-python",
   "name": "python",
   "nbconvert_exporter": "python",
   "pygments_lexer": "ipython3",
   "version": "3.9.10"
  },
  "orig_nbformat": 4,
  "vscode": {
   "interpreter": {
    "hash": "56faac8612633bcfddb99da3ad5a50bcd343e3e14a61b03833611d8357de7104"
   }
  }
 },
 "nbformat": 4,
 "nbformat_minor": 2
}
