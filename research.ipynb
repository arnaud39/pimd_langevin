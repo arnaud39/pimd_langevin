{
 "cells": [
  {
   "cell_type": "code",
   "execution_count": 2,
   "metadata": {},
   "outputs": [],
   "source": [
    "from numpy.random import normal\n",
    "from scipy.constants import hbar\n",
    "import numpy as np\n",
    "\n",
    "def energy(x, v, k=1, m=1, x_0=0):\n",
    "    \"\"\"Compute potential and kinestic energy of the system.\"\"\"\n",
    "    potential_e = 0.5*k*(x-x_0)**2 #spring\n",
    "    kinetic_e = m * (v)**2 /2\n",
    "\n",
    "    return potential_e, kinetic_e\n",
    "\n",
    "def potentiel(x, V_0: float, a: float):\n",
    "    return V_0*((x/a)**2-1)**2\n",
    "def d_potentiel(x, V_0: float, a: float):\n",
    "    return 4*V_0*x*((x/a)**2-1)\n",
    "\n",
    "force = lambda x, k, x_0: k*(x0-x)\n",
    "\n",
    "n=1000#number of steps\n",
    "P = 1\n",
    "\n",
    "x_, p_ = np.zeros(P), np.zeros(P)\n",
    "\n",
    "generated_numbers = normal(size= n*P)\n",
    "\n",
    "def K(M: float=1., T: float = 1.):\n",
    "    return P*m*(k_B*T/hbar)**2\n",
    "\n",
    "def random_force(v, m: float=1., gamma: float=1., k_B: float = 1., T: float=1., generated_number: float=0.):\n",
    "    return np.sqrt(2*m*gamma*b_B*T)*generated_number  - m*gamma*v\n",
    "\n",
    "def force(x, M:float, T:float):\n",
    "    return -2.*K(M, T)\n",
    "\n"
   ]
  },
  {
   "cell_type": "code",
   "execution_count": null,
   "metadata": {},
   "outputs": [],
   "source": []
  }
 ],
 "metadata": {
  "kernelspec": {
   "display_name": "Python 3.9.10",
   "language": "python",
   "name": "python3"
  },
  "language_info": {
   "codemirror_mode": {
    "name": "ipython",
    "version": 3
   },
   "file_extension": ".py",
   "mimetype": "text/x-python",
   "name": "python",
   "nbconvert_exporter": "python",
   "pygments_lexer": "ipython3",
   "version": "3.9.10"
  },
  "orig_nbformat": 4,
  "vscode": {
   "interpreter": {
    "hash": "56faac8612633bcfddb99da3ad5a50bcd343e3e14a61b03833611d8357de7104"
   }
  }
 },
 "nbformat": 4,
 "nbformat_minor": 2
}
