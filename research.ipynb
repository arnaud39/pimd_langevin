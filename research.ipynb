{
 "cells": [
  {
   "cell_type": "code",
   "execution_count": null,
   "metadata": {},
   "outputs": [],
   "source": [
    "def energy(x, v, k=1, m=1, x_0=0):\n",
    "    \"\"\"Compute potential and kinestic energy of the system.\"\"\"\n",
    "    potential_e = 0.5*k*(x-x_0)**2 #spring\n",
    "    kinetic_e = m * (v)**2 /2\n",
    "\n",
    "    return potential_e, kinetic_e\n",
    "\n",
    "force = lambda x, k, x_0: k*(x0-x)"
   ]
  }
 ],
 "metadata": {
  "language_info": {
   "name": "python"
  },
  "orig_nbformat": 4
 },
 "nbformat": 4,
 "nbformat_minor": 2
}
