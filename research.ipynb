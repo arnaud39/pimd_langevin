{
 "cells": [
  {
   "cell_type": "code",
   "execution_count": null,
   "metadata": {},
   "outputs": [],
   "source": [
    "def energy(x, v, k=1, m=1, x_0=0):\n",
    "    \"\"\"Compute potential and kinestic energy of the system.\"\"\"\n",
    "    potential_e = 0.5*k*(x-x_0)**2 #spring\n",
    "    kinetic_e = m * (v)**2 /2\n",
    "\n",
    "    return potential_e, kinetic_e\n",
    "\n",
    "force = lambda x, k, x_0: k*(x0-x)\n",
    "\n",
    "n=1000#number of steps\n",
    "from numpy.random import normal\n",
    "import numpy as np\n",
    "generated_numbers = normal(size= n)\n",
    "\n",
    "P = 1\n",
    "from scipy.constants import hbar\n",
    "\n",
    "def K(M: float=1., T: float = 1.):\n",
    "    return P*m*(k_B*T/hbar)**2\n",
    "\n",
    "def random_force(v, m: float=1., gamma: float=1., k_B: float = 1., T: float=1., generated_number: float=0.):\n",
    "    return np.sqrt(2*m*gamma*b_B*T)*generated_number  - m*gamma*v\n"
   ]
  },
  {
   "cell_type": "code",
   "execution_count": null,
   "metadata": {},
   "outputs": [],
   "source": []
  }
 ],
 "metadata": {
  "language_info": {
   "name": "python"
  },
  "orig_nbformat": 4
 },
 "nbformat": 4,
 "nbformat_minor": 2
}
